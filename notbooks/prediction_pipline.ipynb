{
 "cells": [
  {
   "cell_type": "code",
   "execution_count": 60,
   "id": "2d587a13-12da-4503-b00b-1d2f8197ed6a",
   "metadata": {},
   "outputs": [],
   "source": [
    "import numpy as np\n",
    "import pandas as pd\n",
    "import re\n",
    "import string\n",
    "import pickle"
   ]
  },
  {
   "cell_type": "code",
   "execution_count": 51,
   "id": "28f0527a-3a68-4b61-b106-a77508eca07d",
   "metadata": {},
   "outputs": [],
   "source": [
    "txt = 'great product.i like it'"
   ]
  },
  {
   "cell_type": "code",
   "execution_count": 61,
   "id": "901019c3-c320-4659-b7a8-2e92a1aa3ca5",
   "metadata": {},
   "outputs": [],
   "source": [
    "# Function to remove punctuations\n",
    "def remove_punctuations(text):\n",
    "    for punctuation in string.punctuation:\n",
    "        text = text.replace(punctuation, '')\n",
    "    return text"
   ]
  },
  {
   "cell_type": "code",
   "execution_count": 62,
   "id": "d42dd0a2-a045-4878-a1ac-d9db1621791f",
   "metadata": {},
   "outputs": [],
   "source": [
    "with open('../static/model/model.pickle', 'rb') as f:\n",
    "    model = pickle.load(f)"
   ]
  },
  {
   "cell_type": "code",
   "execution_count": 63,
   "id": "ca2dcf5b-db06-44f7-a5be-81067bba7ecc",
   "metadata": {},
   "outputs": [],
   "source": [
    "with open('../static/model/corpora/stopwords/english','r')as file:\n",
    "    sw= file.read().splitlines()"
   ]
  },
  {
   "cell_type": "code",
   "execution_count": 64,
   "id": "6f9b30fb-0ab7-4df1-92f1-bab406563652",
   "metadata": {},
   "outputs": [],
   "source": [
    "vocab = pd.read_csv('../static/model/vocabulary.txt', header=None)\n",
    "tokens = vocab[0].tolist()"
   ]
  },
  {
   "cell_type": "code",
   "execution_count": 65,
   "id": "e804bf59-0e20-429e-a8f2-e836afc4b3fb",
   "metadata": {},
   "outputs": [],
   "source": [
    "from nltk.stem import PorterStemmer\n",
    "ps= PorterStemmer()"
   ]
  },
  {
   "cell_type": "code",
   "execution_count": 66,
   "id": "abc9c546-9884-4ec7-9061-2ccf0ae2ae76",
   "metadata": {},
   "outputs": [],
   "source": [
    "def preprocessing(text):\n",
    "    data = pd.DataFrame(text, columns =['tweet'])\n",
    "    data[\"tweet\"] = data[\"tweet\"].apply(lambda x: x.lower())  #Convert to lowercase\n",
    "    data[\"tweet\"] = data[\"tweet\"].apply(lambda x: re.sub(r'https?://\\S+', '', x)) # Remove URLs\n",
    "    data[\"tweet\"] = data[\"tweet\"].apply(remove_punctuations)\n",
    "    data[\"tweet\"] = data[\"tweet\"].str.replace(r'\\d+', '', regex=True)\n",
    "    data[\"tweet\"] = data[\"tweet\"].apply(lambda x: \"\".join(x for x in x.split() if x not in sw))\n",
    "    data[\"tweet\"] = data[\"tweet\"].apply(lambda x: \"\".join(ps.stem(x) for x in x.split()))\n",
    "    return data[\"tweet\"]"
   ]
  },
  {
   "cell_type": "code",
   "execution_count": 71,
   "id": "8dc50ad3-0b5a-4bd5-925a-9b43dc26c4e1",
   "metadata": {},
   "outputs": [],
   "source": [
    "def vectorizer(ds, vocabulary):\n",
    "    vectorized_lst = []\n",
    "    \n",
    "    for sentence in ds:\n",
    "        sentence_lst = np.zeros(len(vocabulary))\n",
    "        \n",
    "        for i in range(len(vocabulary)):\n",
    "            if vocabulary[i] in sentence.split():\n",
    "                sentence_lst[i] = 1\n",
    "                \n",
    "        vectorized_lst.append(sentence_lst)\n",
    "        \n",
    "    vectorized_lst_new = np.asarray(vectorized_lst, dtype=np.float32)\n",
    "    \n",
    "    return vectorized_lst_new "
   ]
  },
  {
   "cell_type": "code",
   "execution_count": 72,
   "id": "b0717e5e-23b6-400f-9c41-4d6fcbc8a565",
   "metadata": {},
   "outputs": [],
   "source": [
    "def get_prediction(vectorized_text):\n",
    "    prediction = model.predict(vectorized_text)\n",
    "    if prediction == 1:\n",
    "        return 'negative'\n",
    "    else:\n",
    "        return 'positive'"
   ]
  },
  {
   "cell_type": "code",
   "execution_count": 74,
   "id": "08e24be7-0de3-4981-b0ee-3f38df5da88a",
   "metadata": {},
   "outputs": [],
   "source": [
    "def preprocessing(text):\n",
    "    # Ensure `text` is a list\n",
    "    if isinstance(text, str):  # If a single string\n",
    "        text = [text]          # Wrap it in a list\n",
    "    elif not isinstance(text, (list, tuple)):  # If not iterable\n",
    "        raise ValueError(\"Input text must be a string or a list of strings\")\n",
    "    \n",
    "    # Create DataFrame\n",
    "    data = pd.DataFrame(text, columns=['tweet'])\n",
    "\n",
    "    # Apply preprocessing\n",
    "    data[\"tweet\"] = data[\"tweet\"].apply(lambda x: x.lower())  # Convert to lowercase\n",
    "    data[\"tweet\"] = data[\"tweet\"].apply(lambda x: re.sub(r'https?://\\S+', '', x))  # Remove URLs\n",
    "    data[\"tweet\"] = data[\"tweet\"].apply(remove_punctuations)  # Remove punctuations\n",
    "\n",
    "    return data[\"tweet\"]\n"
   ]
  },
  {
   "cell_type": "code",
   "execution_count": 75,
   "id": "af9e4068-371e-4f09-bf12-b684fcf59318",
   "metadata": {},
   "outputs": [
    {
     "data": {
      "text/plain": [
       "'positive'"
      ]
     },
     "execution_count": 75,
     "metadata": {},
     "output_type": "execute_result"
    }
   ],
   "source": [
    "txt = \"awesome product. i love it\"\n",
    "preprocessed_txt = preprocessing(txt)\n",
    "vectorized_txt = vectorizer(preprocessed_txt, tokens)\n",
    "prediction = get_prediction(vectorized_txt)\n",
    "prediction"
   ]
  },
  {
   "cell_type": "code",
   "execution_count": null,
   "id": "1cc721d4-2823-4bdb-af73-b2f74603feff",
   "metadata": {},
   "outputs": [],
   "source": []
  }
 ],
 "metadata": {
  "kernelspec": {
   "display_name": "Python 3 (ipykernel)",
   "language": "python",
   "name": "python3"
  },
  "language_info": {
   "codemirror_mode": {
    "name": "ipython",
    "version": 3
   },
   "file_extension": ".py",
   "mimetype": "text/x-python",
   "name": "python",
   "nbconvert_exporter": "python",
   "pygments_lexer": "ipython3",
   "version": "3.12.3"
  }
 },
 "nbformat": 4,
 "nbformat_minor": 5
}
